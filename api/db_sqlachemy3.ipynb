{
 "cells": [
  {
   "cell_type": "code",
   "execution_count": 2,
   "metadata": {},
   "outputs": [
    {
     "data": {
      "text/plain": [
       "datetime.datetime(2024, 1, 29, 21, 1, 17, 215714)"
      ]
     },
     "execution_count": 2,
     "metadata": {},
     "output_type": "execute_result"
    }
   ],
   "source": [
    "from datetime import datetime\n",
    "datetime.now()"
   ]
  },
  {
   "cell_type": "code",
   "execution_count": 3,
   "metadata": {},
   "outputs": [],
   "source": [
    "import sqlalchemy as db\n",
    "engine = db.create_engine(\"sqlite:///../instance/capataz.db\")\n",
    "conn = engine.connect() "
   ]
  },
  {
   "cell_type": "code",
   "execution_count": 4,
   "metadata": {},
   "outputs": [],
   "source": [
    "# from sqlalchemy import create_engine\n",
    "# from sqlalchemy.orm import relationship\n",
    "# from sqlalchemy.orm import declarative_base\n",
    "# from sqlalchemy import Column, Integer, DateTime, String, ForeignKey\n",
    "\n",
    "# engine = create_engine('sqlite:///../instance/capataz.db', echo=True)\n",
    "\n",
    "# Base = declarative_base()\n",
    "\n",
    "# class Orders(Base):\n",
    "#     __tablename__ = 'orders'\n",
    "\n",
    "#     id = Column(Integer, primary_key=True, nullable=False)\n",
    "#     customer_id = Column(Integer)\n",
    "#     order_date = Column(DateTime)\n",
    "#     status = Column(String)\n",
    "\n",
    "# class OrderDetails(Base):\n",
    "#     __tablename__ = 'order_details'\n",
    "    \n",
    "#     id = Column(Integer, primary_key=True, nullable=False)\n",
    "#     product_id = Column(Integer)\n",
    "#     quantity = Column(Integer)\n",
    "#     order_id = Column(Integer, ForeignKey(Orders.id), nullable=False)\n",
    "#     order = relationship(\"Orders\")"
   ]
  },
  {
   "cell_type": "markdown",
   "metadata": {},
   "source": [
    "---"
   ]
  },
  {
   "cell_type": "code",
   "execution_count": 5,
   "metadata": {},
   "outputs": [],
   "source": [
    "import sqlite3\n",
    "from sqlite3 import Error"
   ]
  },
  {
   "cell_type": "code",
   "execution_count": 6,
   "metadata": {},
   "outputs": [
    {
     "name": "stdout",
     "output_type": "stream",
     "text": [
      "Connection to SQLite DB successful\n"
     ]
    }
   ],
   "source": [
    "def create_connection(path):\n",
    "    connection = None\n",
    "    try:\n",
    "        connection = sqlite3.connect(path)\n",
    "        print(\"Connection to SQLite DB successful\")\n",
    "    except Error as e:\n",
    "        print(f\"The error '{e}' occurred\")\n",
    "\n",
    "    return connection\n",
    "\n",
    "connection = create_connection('../instance/capataz.db')"
   ]
  },
  {
   "cell_type": "code",
   "execution_count": 7,
   "metadata": {},
   "outputs": [],
   "source": [
    "def execute_query(connection, query):\n",
    "    cursor = connection.cursor()\n",
    "    try:\n",
    "        cursor.execute(query)\n",
    "        connection.commit()\n",
    "        print(\"Query executed successfully\")\n",
    "    except Error as e:\n",
    "        print(f\"The error '{e}' occurred\")"
   ]
  },
  {
   "cell_type": "code",
   "execution_count": 8,
   "metadata": {},
   "outputs": [],
   "source": [
    "def execute_read_query(connection, query):\n",
    "    cursor = connection.cursor()\n",
    "    result = None\n",
    "    try:\n",
    "        cursor.execute(query)\n",
    "        result = cursor.fetchall()\n",
    "        return result\n",
    "    except Error as e:\n",
    "        print(f\"The error '{e}' occurred\")"
   ]
  },
  {
   "cell_type": "code",
   "execution_count": 9,
   "metadata": {},
   "outputs": [],
   "source": [
    "select_establecimiento = \"SELECT * from user\"\n",
    "establecimientos = execute_read_query(connection, select_establecimiento)\n",
    "\n",
    "for establecimiento in establecimientos:\n",
    "    print(establecimiento)"
   ]
  },
  {
   "cell_type": "code",
   "execution_count": 10,
   "metadata": {},
   "outputs": [
    {
     "name": "stdout",
     "output_type": "stream",
     "text": [
      "Query executed successfully\n"
     ]
    }
   ],
   "source": [
    "execute_query(connection,'DROP TABLE user')"
   ]
  },
  {
   "cell_type": "code",
   "execution_count": 21,
   "metadata": {},
   "outputs": [],
   "source": [
    "select_establecimiento = \"SELECT * from establecimiento\"\n",
    "establecimientos = execute_read_query(connection, select_establecimiento)\n",
    "\n",
    "for establecimiento in establecimientos:\n",
    "    print(establecimiento)"
   ]
  },
  {
   "cell_type": "code",
   "execution_count": 22,
   "metadata": {},
   "outputs": [
    {
     "name": "stdout",
     "output_type": "stream",
     "text": [
      "Query executed successfully\n"
     ]
    }
   ],
   "source": [
    "execute_query(connection,'DROP TABLE establecimiento')"
   ]
  },
  {
   "cell_type": "code",
   "execution_count": 11,
   "metadata": {},
   "outputs": [
    {
     "name": "stdout",
     "output_type": "stream",
     "text": [
      "The error 'no such table: establecimiento' occurred\n"
     ]
    },
    {
     "ename": "TypeError",
     "evalue": "'NoneType' object is not iterable",
     "output_type": "error",
     "traceback": [
      "\u001b[1;31m---------------------------------------------------------------------------\u001b[0m",
      "\u001b[1;31mTypeError\u001b[0m                                 Traceback (most recent call last)",
      "Cell \u001b[1;32mIn[11], line 4\u001b[0m\n\u001b[0;32m      1\u001b[0m select_establecimiento \u001b[38;5;241m=\u001b[39m \u001b[38;5;124m\"\u001b[39m\u001b[38;5;124mSELECT * from establecimiento\u001b[39m\u001b[38;5;124m\"\u001b[39m\n\u001b[0;32m      2\u001b[0m establecimientos \u001b[38;5;241m=\u001b[39m execute_read_query(connection, select_establecimiento)\n\u001b[1;32m----> 4\u001b[0m \u001b[38;5;28;01mfor\u001b[39;00m establecimiento \u001b[38;5;129;01min\u001b[39;00m establecimientos:\n\u001b[0;32m      5\u001b[0m     \u001b[38;5;28mprint\u001b[39m(establecimiento)\n",
      "\u001b[1;31mTypeError\u001b[0m: 'NoneType' object is not iterable"
     ]
    }
   ],
   "source": [
    "select_establecimiento = \"SELECT * from establecimiento\"\n",
    "establecimientos = execute_read_query(connection, select_establecimiento)\n",
    "\n",
    "for establecimiento in establecimientos:\n",
    "\n",
    "    print(establecimiento)"
   ]
  },
  {
   "cell_type": "code",
   "execution_count": 13,
   "metadata": {},
   "outputs": [
    {
     "name": "stdout",
     "output_type": "stream",
     "text": [
      "(1, 'El Escondido', 'Active', '2024-01-29 20:41:00.633863', '2024-01-29 20:41:00.633863')\n"
     ]
    }
   ],
   "source": [
    "select_establecimiento = \"SELECT * from establishment\"\n",
    "establecimientos = execute_read_query(connection, select_establecimiento)\n",
    "\n",
    "for establecimiento in establecimientos:\n",
    "\n",
    "    print(establecimiento)"
   ]
  },
  {
   "cell_type": "code",
   "execution_count": null,
   "metadata": {},
   "outputs": [],
   "source": [
    "import json\n",
    "\n",
    "establishments = Establishment.query.all()\n",
    "\n",
    "# Convert the list of Establishment objects to a JSON array\n",
    "json_data = json.dumps([establishment.to_dict() for establishment in establishments])\n",
    "\n",
    "print(json_data)\n"
   ]
  }
 ],
 "metadata": {
  "kernelspec": {
   "display_name": "env",
   "language": "python",
   "name": "python3"
  },
  "language_info": {
   "codemirror_mode": {
    "name": "ipython",
    "version": 3
   },
   "file_extension": ".py",
   "mimetype": "text/x-python",
   "name": "python",
   "nbconvert_exporter": "python",
   "pygments_lexer": "ipython3",
   "version": "3.10.0"
  }
 },
 "nbformat": 4,
 "nbformat_minor": 2
}
